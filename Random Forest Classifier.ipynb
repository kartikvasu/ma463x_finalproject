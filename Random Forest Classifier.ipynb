{
 "cells": [
  {
   "cell_type": "code",
   "execution_count": 1,
   "metadata": {
    "collapsed": true
   },
   "outputs": [],
   "source": [
    "import pandas as pd\n",
    "import sklearn as sk\n",
    "import seaborn as sn\n",
    "import numpy as np\n",
    "from sklearn.decomposition import PCA"
   ]
  },
  {
   "cell_type": "markdown",
   "metadata": {},
   "source": [
    "## Random Forest Classifier"
   ]
  },
  {
   "cell_type": "markdown",
   "metadata": {},
   "source": [
    "### Data Munging\n",
    "Let's load the data first. Some initial prep is needed. You have to make sure that the index column is not in your dataframe. Then separate the dataframe into the features and the target. We do *not* want to run PCA with cover type!"
   ]
  },
  {
   "cell_type": "code",
   "execution_count": 2,
   "metadata": {
    "collapsed": false
   },
   "outputs": [],
   "source": [
    "df = pd.read_csv('train_and_test.csv', index_col=0)"
   ]
  },
  {
   "cell_type": "code",
   "execution_count": 3,
   "metadata": {
    "collapsed": false
   },
   "outputs": [],
   "source": [
    "features = df[df.columns[:54]]\n",
    "target = df['Cover_Type']"
   ]
  },
  {
   "cell_type": "markdown",
   "metadata": {},
   "source": [
    "A good way to make sure that your dataset is what you want it to be is by using the .head() function. It is not enough but at least the first 5 rows look good lol. "
   ]
  },
  {
   "cell_type": "code",
   "execution_count": 4,
   "metadata": {
    "collapsed": false
   },
   "outputs": [
    {
     "data": {
      "text/html": [
       "<div>\n",
       "<table border=\"1\" class=\"dataframe\">\n",
       "  <thead>\n",
       "    <tr style=\"text-align: right;\">\n",
       "      <th></th>\n",
       "      <th>Elevation</th>\n",
       "      <th>Aspect</th>\n",
       "      <th>Slope</th>\n",
       "      <th>Horizontal_Dist_To_Water</th>\n",
       "      <th>Vertical_Dist_To_Water</th>\n",
       "      <th>Horizontal_Dist_To_Roadways</th>\n",
       "      <th>Hillshade_9am</th>\n",
       "      <th>Hillshade_noon</th>\n",
       "      <th>Hillshade_3pm</th>\n",
       "      <th>Horizontal_Dist_To_Fire_Points</th>\n",
       "      <th>...</th>\n",
       "      <th>Soiltype31</th>\n",
       "      <th>Soiltype32</th>\n",
       "      <th>Soiltype33</th>\n",
       "      <th>Soiltype34</th>\n",
       "      <th>Soiltype35</th>\n",
       "      <th>Soiltype36</th>\n",
       "      <th>Soiltype37</th>\n",
       "      <th>Soiltype38</th>\n",
       "      <th>Soiltype39</th>\n",
       "      <th>Soiltype40</th>\n",
       "    </tr>\n",
       "  </thead>\n",
       "  <tbody>\n",
       "    <tr>\n",
       "      <th>1</th>\n",
       "      <td>2590</td>\n",
       "      <td>56</td>\n",
       "      <td>2</td>\n",
       "      <td>212</td>\n",
       "      <td>-6</td>\n",
       "      <td>390</td>\n",
       "      <td>220</td>\n",
       "      <td>235</td>\n",
       "      <td>151</td>\n",
       "      <td>6225</td>\n",
       "      <td>...</td>\n",
       "      <td>0</td>\n",
       "      <td>0</td>\n",
       "      <td>0</td>\n",
       "      <td>0</td>\n",
       "      <td>0</td>\n",
       "      <td>0</td>\n",
       "      <td>0</td>\n",
       "      <td>0</td>\n",
       "      <td>0</td>\n",
       "      <td>0</td>\n",
       "    </tr>\n",
       "    <tr>\n",
       "      <th>3</th>\n",
       "      <td>2785</td>\n",
       "      <td>155</td>\n",
       "      <td>18</td>\n",
       "      <td>242</td>\n",
       "      <td>118</td>\n",
       "      <td>3090</td>\n",
       "      <td>238</td>\n",
       "      <td>238</td>\n",
       "      <td>122</td>\n",
       "      <td>6211</td>\n",
       "      <td>...</td>\n",
       "      <td>0</td>\n",
       "      <td>0</td>\n",
       "      <td>0</td>\n",
       "      <td>0</td>\n",
       "      <td>0</td>\n",
       "      <td>0</td>\n",
       "      <td>0</td>\n",
       "      <td>0</td>\n",
       "      <td>0</td>\n",
       "      <td>0</td>\n",
       "    </tr>\n",
       "    <tr>\n",
       "      <th>4</th>\n",
       "      <td>2595</td>\n",
       "      <td>45</td>\n",
       "      <td>2</td>\n",
       "      <td>153</td>\n",
       "      <td>-1</td>\n",
       "      <td>391</td>\n",
       "      <td>220</td>\n",
       "      <td>234</td>\n",
       "      <td>150</td>\n",
       "      <td>6172</td>\n",
       "      <td>...</td>\n",
       "      <td>0</td>\n",
       "      <td>0</td>\n",
       "      <td>0</td>\n",
       "      <td>0</td>\n",
       "      <td>0</td>\n",
       "      <td>0</td>\n",
       "      <td>0</td>\n",
       "      <td>0</td>\n",
       "      <td>0</td>\n",
       "      <td>0</td>\n",
       "    </tr>\n",
       "    <tr>\n",
       "      <th>5</th>\n",
       "      <td>2579</td>\n",
       "      <td>132</td>\n",
       "      <td>6</td>\n",
       "      <td>300</td>\n",
       "      <td>-15</td>\n",
       "      <td>67</td>\n",
       "      <td>230</td>\n",
       "      <td>237</td>\n",
       "      <td>140</td>\n",
       "      <td>6031</td>\n",
       "      <td>...</td>\n",
       "      <td>0</td>\n",
       "      <td>0</td>\n",
       "      <td>0</td>\n",
       "      <td>0</td>\n",
       "      <td>0</td>\n",
       "      <td>0</td>\n",
       "      <td>0</td>\n",
       "      <td>0</td>\n",
       "      <td>0</td>\n",
       "      <td>0</td>\n",
       "    </tr>\n",
       "    <tr>\n",
       "      <th>7</th>\n",
       "      <td>2605</td>\n",
       "      <td>49</td>\n",
       "      <td>4</td>\n",
       "      <td>234</td>\n",
       "      <td>7</td>\n",
       "      <td>573</td>\n",
       "      <td>222</td>\n",
       "      <td>230</td>\n",
       "      <td>144</td>\n",
       "      <td>6228</td>\n",
       "      <td>...</td>\n",
       "      <td>0</td>\n",
       "      <td>0</td>\n",
       "      <td>0</td>\n",
       "      <td>0</td>\n",
       "      <td>0</td>\n",
       "      <td>0</td>\n",
       "      <td>0</td>\n",
       "      <td>0</td>\n",
       "      <td>0</td>\n",
       "      <td>0</td>\n",
       "    </tr>\n",
       "  </tbody>\n",
       "</table>\n",
       "<p>5 rows × 54 columns</p>\n",
       "</div>"
      ],
      "text/plain": [
       "   Elevation  Aspect  Slope  Horizontal_Dist_To_Water  Vertical_Dist_To_Water  \\\n",
       "1       2590      56      2                       212                      -6   \n",
       "3       2785     155     18                       242                     118   \n",
       "4       2595      45      2                       153                      -1   \n",
       "5       2579     132      6                       300                     -15   \n",
       "7       2605      49      4                       234                       7   \n",
       "\n",
       "   Horizontal_Dist_To_Roadways  Hillshade_9am  Hillshade_noon  Hillshade_3pm  \\\n",
       "1                          390            220             235            151   \n",
       "3                         3090            238             238            122   \n",
       "4                          391            220             234            150   \n",
       "5                           67            230             237            140   \n",
       "7                          573            222             230            144   \n",
       "\n",
       "   Horizontal_Dist_To_Fire_Points     ...      Soiltype31  Soiltype32  \\\n",
       "1                            6225     ...               0           0   \n",
       "3                            6211     ...               0           0   \n",
       "4                            6172     ...               0           0   \n",
       "5                            6031     ...               0           0   \n",
       "7                            6228     ...               0           0   \n",
       "\n",
       "   Soiltype33  Soiltype34  Soiltype35  Soiltype36  Soiltype37  Soiltype38  \\\n",
       "1           0           0           0           0           0           0   \n",
       "3           0           0           0           0           0           0   \n",
       "4           0           0           0           0           0           0   \n",
       "5           0           0           0           0           0           0   \n",
       "7           0           0           0           0           0           0   \n",
       "\n",
       "   Soiltype39  Soiltype40  \n",
       "1           0           0  \n",
       "3           0           0  \n",
       "4           0           0  \n",
       "5           0           0  \n",
       "7           0           0  \n",
       "\n",
       "[5 rows x 54 columns]"
      ]
     },
     "execution_count": 4,
     "metadata": {},
     "output_type": "execute_result"
    }
   ],
   "source": [
    "features.head()"
   ]
  },
  {
   "cell_type": "code",
   "execution_count": 5,
   "metadata": {
    "collapsed": true
   },
   "outputs": [],
   "source": [
    "np.random.seed(69) # seed random number generator\n",
    "# Separate into training (80%) and testing (20%):\n",
    "msk = np.random.rand(len(features)) < 0.8\n",
    "train_features = features[msk]\n",
    "train_target = target[msk]\n",
    "test_features = features[~msk]\n",
    "test_target = target[~msk]"
   ]
  },
  {
   "cell_type": "markdown",
   "metadata": {},
   "source": [
    "### Random Forest Classifier"
   ]
  },
  {
   "cell_type": "code",
   "execution_count": 6,
   "metadata": {
    "collapsed": false
   },
   "outputs": [
    {
     "data": {
      "text/plain": [
       "Index(['Elevation', 'Aspect', 'Slope', 'Horizontal_Dist_To_Water',\n",
       "       'Vertical_Dist_To_Water', 'Horizontal_Dist_To_Roadways',\n",
       "       'Hillshade_9am', 'Hillshade_noon', 'Hillshade_3pm',\n",
       "       'Horizontal_Dist_To_Fire_Points', 'WA_Rawah', 'Wa_Neota', 'WA_Comanche',\n",
       "       'WA_CacheLaPoudre', 'Soiltype1', 'Soiltype2', 'Soiltype3', 'Soiltype4',\n",
       "       'Soiltype5', 'Soiltype6', 'Soiltype7', 'Soiltype8', 'Soiltype9',\n",
       "       'Soiltype10', 'Soiltype11', 'Soiltype12', 'Soiltype13', 'Soiltype14',\n",
       "       'Soiltype15', 'Soiltype16', 'Soiltype17', 'Soiltype18', 'Soiltype19',\n",
       "       'Soiltype20', 'Soiltype21', 'Soiltype22', 'Soiltype23', 'Soiltype24',\n",
       "       'Soiltype25', 'Soiltype26', 'Soiltype27', 'Soiltype28', 'Soiltype29',\n",
       "       'Soiltype30', 'Soiltype31', 'Soiltype32', 'Soiltype33', 'Soiltype34',\n",
       "       'Soiltype35', 'Soiltype36', 'Soiltype37', 'Soiltype38', 'Soiltype39',\n",
       "       'Soiltype40'],\n",
       "      dtype='object')"
      ]
     },
     "execution_count": 6,
     "metadata": {},
     "output_type": "execute_result"
    }
   ],
   "source": [
    "features = df.columns[:54]\n",
    "features"
   ]
  },
  {
   "cell_type": "code",
   "execution_count": 7,
   "metadata": {
    "collapsed": false
   },
   "outputs": [
    {
     "data": {
      "text/plain": [
       "RandomForestClassifier(bootstrap=True, class_weight=None, criterion='gini',\n",
       "            max_depth=None, max_features='auto', max_leaf_nodes=None,\n",
       "            min_impurity_split=1e-07, min_samples_leaf=1,\n",
       "            min_samples_split=2, min_weight_fraction_leaf=0.0,\n",
       "            n_estimators=10, n_jobs=2, oob_score=False, random_state=None,\n",
       "            verbose=0, warm_start=False)"
      ]
     },
     "execution_count": 7,
     "metadata": {},
     "output_type": "execute_result"
    }
   ],
   "source": [
    "from sklearn.ensemble import RandomForestClassifier\n",
    "\n",
    "clf = RandomForestClassifier(n_jobs=2)\n",
    "\n",
    "clf.fit(train_features, train_target)"
   ]
  },
  {
   "cell_type": "code",
   "execution_count": 8,
   "metadata": {
    "collapsed": false
   },
   "outputs": [
    {
     "data": {
      "text/plain": [
       "array([2, 2, 2, ..., 3, 3, 3])"
      ]
     },
     "execution_count": 8,
     "metadata": {},
     "output_type": "execute_result"
    }
   ],
   "source": [
    "clf.predict(test_features) #these are the predictions made by the classifier on the test set"
   ]
  },
  {
   "cell_type": "code",
   "execution_count": 9,
   "metadata": {
    "collapsed": false
   },
   "outputs": [
    {
     "data": {
      "text/plain": [
       "array([[ 0.1,  0.9,  0. ,  0. ,  0. ,  0. ,  0. ],\n",
       "       [ 0.3,  0.7,  0. ,  0. ,  0. ,  0. ,  0. ],\n",
       "       [ 0.2,  0.5,  0. ,  0. ,  0.3,  0. ,  0. ],\n",
       "       [ 0.6,  0.4,  0. ,  0. ,  0. ,  0. ,  0. ],\n",
       "       [ 0.1,  0.9,  0. ,  0. ,  0. ,  0. ,  0. ],\n",
       "       [ 0. ,  1. ,  0. ,  0. ,  0. ,  0. ,  0. ],\n",
       "       [ 0. ,  0.9,  0.1,  0. ,  0. ,  0. ,  0. ],\n",
       "       [ 0.8,  0.2,  0. ,  0. ,  0. ,  0. ,  0. ],\n",
       "       [ 0.1,  0.9,  0. ,  0. ,  0. ,  0. ,  0. ],\n",
       "       [ 0. ,  1. ,  0. ,  0. ,  0. ,  0. ,  0. ]])"
      ]
     },
     "execution_count": 9,
     "metadata": {},
     "output_type": "execute_result"
    }
   ],
   "source": [
    "clf.predict_proba(test_features)[0:10] #these are the probabilities that it predicts for each row of testing data"
   ]
  },
  {
   "cell_type": "code",
   "execution_count": 10,
   "metadata": {
    "collapsed": false
   },
   "outputs": [
    {
     "data": {
      "text/html": [
       "<div>\n",
       "<table border=\"1\" class=\"dataframe\">\n",
       "  <thead>\n",
       "    <tr style=\"text-align: right;\">\n",
       "      <th>Predicted Species</th>\n",
       "      <th>1</th>\n",
       "      <th>2</th>\n",
       "      <th>3</th>\n",
       "      <th>4</th>\n",
       "      <th>5</th>\n",
       "      <th>6</th>\n",
       "      <th>7</th>\n",
       "    </tr>\n",
       "    <tr>\n",
       "      <th>Actual type</th>\n",
       "      <th></th>\n",
       "      <th></th>\n",
       "      <th></th>\n",
       "      <th></th>\n",
       "      <th></th>\n",
       "      <th></th>\n",
       "      <th></th>\n",
       "    </tr>\n",
       "  </thead>\n",
       "  <tbody>\n",
       "    <tr>\n",
       "      <th>1</th>\n",
       "      <td>31766</td>\n",
       "      <td>1960</td>\n",
       "      <td>0</td>\n",
       "      <td>0</td>\n",
       "      <td>15</td>\n",
       "      <td>4</td>\n",
       "      <td>50</td>\n",
       "    </tr>\n",
       "    <tr>\n",
       "      <th>2</th>\n",
       "      <td>2042</td>\n",
       "      <td>42991</td>\n",
       "      <td>119</td>\n",
       "      <td>1</td>\n",
       "      <td>46</td>\n",
       "      <td>72</td>\n",
       "      <td>10</td>\n",
       "    </tr>\n",
       "    <tr>\n",
       "      <th>3</th>\n",
       "      <td>1</td>\n",
       "      <td>128</td>\n",
       "      <td>5387</td>\n",
       "      <td>28</td>\n",
       "      <td>8</td>\n",
       "      <td>135</td>\n",
       "      <td>0</td>\n",
       "    </tr>\n",
       "    <tr>\n",
       "      <th>4</th>\n",
       "      <td>0</td>\n",
       "      <td>0</td>\n",
       "      <td>71</td>\n",
       "      <td>364</td>\n",
       "      <td>0</td>\n",
       "      <td>13</td>\n",
       "      <td>0</td>\n",
       "    </tr>\n",
       "    <tr>\n",
       "      <th>5</th>\n",
       "      <td>34</td>\n",
       "      <td>383</td>\n",
       "      <td>15</td>\n",
       "      <td>0</td>\n",
       "      <td>1083</td>\n",
       "      <td>4</td>\n",
       "      <td>0</td>\n",
       "    </tr>\n",
       "    <tr>\n",
       "      <th>6</th>\n",
       "      <td>4</td>\n",
       "      <td>121</td>\n",
       "      <td>329</td>\n",
       "      <td>12</td>\n",
       "      <td>2</td>\n",
       "      <td>2303</td>\n",
       "      <td>0</td>\n",
       "    </tr>\n",
       "    <tr>\n",
       "      <th>7</th>\n",
       "      <td>215</td>\n",
       "      <td>27</td>\n",
       "      <td>0</td>\n",
       "      <td>0</td>\n",
       "      <td>0</td>\n",
       "      <td>0</td>\n",
       "      <td>2952</td>\n",
       "    </tr>\n",
       "  </tbody>\n",
       "</table>\n",
       "</div>"
      ],
      "text/plain": [
       "Predicted Species      1      2     3    4     5     6     7\n",
       "Actual type                                                 \n",
       "1                  31766   1960     0    0    15     4    50\n",
       "2                   2042  42991   119    1    46    72    10\n",
       "3                      1    128  5387   28     8   135     0\n",
       "4                      0      0    71  364     0    13     0\n",
       "5                     34    383    15    0  1083     4     0\n",
       "6                      4    121   329   12     2  2303     0\n",
       "7                    215     27     0    0     0     0  2952"
      ]
     },
     "execution_count": 10,
     "metadata": {},
     "output_type": "execute_result"
    }
   ],
   "source": [
    "pd.crosstab(test_target, clf.predict(test_features), rownames=['Actual type'], colnames=['Predicted Species'])"
   ]
  },
  {
   "cell_type": "code",
   "execution_count": 11,
   "metadata": {
    "collapsed": false
   },
   "outputs": [
    {
     "data": {
      "text/plain": [
       "0.9369005879497276"
      ]
     },
     "execution_count": 11,
     "metadata": {},
     "output_type": "execute_result"
    }
   ],
   "source": [
    "predicted = clf.predict(test_features)\n",
    "actual = np.array(test_target)\n",
    "\n",
    "result = [None]*len(actual)\n",
    "for i in range(len(actual)):\n",
    "    result[i] = (predicted[i]==actual[i])\n",
    "\n",
    "correct_count = [i for i in result if i==True]\n",
    "correct_rate = float(len(correct_count))/len(result)\n",
    "correct_rate"
   ]
  },
  {
   "cell_type": "markdown",
   "metadata": {},
   "source": [
    "### Feature importances\n",
    "The classification tree that our random forest picked determined, according to the values below that the elevation is the most important predictor followed by Horizontal distance to roadways and horizontal distance to fire points."
   ]
  },
  {
   "cell_type": "code",
   "execution_count": 12,
   "metadata": {
    "collapsed": false
   },
   "outputs": [
    {
     "data": {
      "text/plain": [
       "[('Elevation', 0.26599915409165864),\n",
       " ('Aspect', 0.050243286779335969),\n",
       " ('Slope', 0.033715596488307534),\n",
       " ('Horizontal_Dist_To_Water', 0.059739437787144412),\n",
       " ('Vertical_Dist_To_Water', 0.058384516113076726),\n",
       " ('Horizontal_Dist_To_Roadways', 0.11516090833627816),\n",
       " ('Hillshade_9am', 0.041334738112380517),\n",
       " ('Hillshade_noon', 0.043962954943771629),\n",
       " ('Hillshade_3pm', 0.041409094198060901),\n",
       " ('Horizontal_Dist_To_Fire_Points', 0.11095161187228741),\n",
       " ('WA_Rawah', 0.01005378417501674),\n",
       " ('Wa_Neota', 0.0039997484443675202),\n",
       " ('WA_Comanche', 0.010771540388857496),\n",
       " ('WA_CacheLaPoudre', 0.014862710990769579),\n",
       " ('Soiltype1', 0.0016336848199325891),\n",
       " ('Soiltype2', 0.0060106823923758244),\n",
       " ('Soiltype3', 0.0023108212083113025),\n",
       " ('Soiltype4', 0.01035057074269982),\n",
       " ('Soiltype5', 0.00042689740760972134),\n",
       " ('Soiltype6', 0.0031703684726725372),\n",
       " ('Soiltype7', 8.8367607334456821e-06),\n",
       " ('Soiltype8', 5.3366883123665109e-05),\n",
       " ('Soiltype9', 0.00011011937808647677),\n",
       " ('Soiltype10', 0.011864007344320377),\n",
       " ('Soiltype11', 0.0025505986776891711),\n",
       " ('Soiltype12', 0.01234918294345724),\n",
       " ('Soiltype13', 0.0038288305140870447),\n",
       " ('Soiltype14', 0.00026260266012853031),\n",
       " ('Soiltype15', 3.4499965423403501e-06),\n",
       " ('Soiltype16', 0.00073294981681504463),\n",
       " ('Soiltype17', 0.001677547222790101),\n",
       " ('Soiltype18', 0.00015341727537514937),\n",
       " ('Soiltype19', 0.0011038922683070434),\n",
       " ('Soiltype20', 0.0019066713044268036),\n",
       " ('Soiltype21', 0.00054864864107700257),\n",
       " ('Soiltype22', 0.012977121206749034),\n",
       " ('Soiltype23', 0.0090625269608439231),\n",
       " ('Soiltype24', 0.0039917207334400247),\n",
       " ('Soiltype25', 0.00022623724114327354),\n",
       " ('Soiltype26', 0.0004397540900037391),\n",
       " ('Soiltype27', 0.00071426126268674182),\n",
       " ('Soiltype28', 0.00014852877746345295),\n",
       " ('Soiltype29', 0.0058447283132485933),\n",
       " ('Soiltype30', 0.0038468329614585184),\n",
       " ('Soiltype31', 0.0045641066794139575),\n",
       " ('Soiltype32', 0.0057421313330234683),\n",
       " ('Soiltype33', 0.004493939626904293),\n",
       " ('Soiltype34', 0.00054025490955152806),\n",
       " ('Soiltype35', 0.0015358438759134774),\n",
       " ('Soiltype36', 5.9241620220173245e-05),\n",
       " ('Soiltype37', 0.00063951030431870666),\n",
       " ('Soiltype38', 0.0092660739417122408),\n",
       " ('Soiltype39', 0.0092184169828666614),\n",
       " ('Soiltype40', 0.0050425397271637428)]"
      ]
     },
     "execution_count": 12,
     "metadata": {},
     "output_type": "execute_result"
    }
   ],
   "source": [
    "list(zip(train_features, clf.feature_importances_))"
   ]
  }
 ],
 "metadata": {
  "kernelspec": {
   "display_name": "Python 3",
   "language": "python",
   "name": "python3"
  },
  "language_info": {
   "codemirror_mode": {
    "name": "ipython",
    "version": 3
   },
   "file_extension": ".py",
   "mimetype": "text/x-python",
   "name": "python",
   "nbconvert_exporter": "python",
   "pygments_lexer": "ipython3",
   "version": "3.6.0"
  }
 },
 "nbformat": 4,
 "nbformat_minor": 2
}
