{
 "cells": [
  {
   "cell_type": "code",
   "execution_count": null,
   "metadata": {
    "collapsed": true
   },
   "outputs": [],
   "source": [
    "import pandas as pd\n",
    "import numpy as np\n",
    "from sklearn.discriminant_analysis import QuadraticDiscriminantAnalysis\n",
    "from sklearn.discriminant_analysis import LinearDiscriminantAnalysis\n",
    "import matplotlib.pyplot as plt\n",
    "from sklearn.decomposition import PCA\n",
    "from sklearn.model_selection import cross_val_score"
   ]
  },
  {
   "cell_type": "markdown",
   "metadata": {},
   "source": [
    "## Setup"
   ]
  },
  {
   "cell_type": "code",
   "execution_count": null,
   "metadata": {},
   "outputs": [],
   "source": [
    "df = pd.read_csv('train_and_test.csv', index_col=0)\n",
    "features = df[df.columns[:54]]\n",
    "target = df['Cover_Type']\n",
    "feature_names = list(df)"
   ]
  },
  {
   "cell_type": "markdown",
   "metadata": {},
   "source": [
    "## PCA"
   ]
  },
  {
   "cell_type": "code",
   "execution_count": null,
   "metadata": {},
   "outputs": [],
   "source": [
    "pca_feat = PCA() # this is the PCA object\n",
    "pca_feat.fit(features) # fit the PCA object on the features that you have\n",
    "n_comp = 5\n",
    "pca_n = PCA(n_components=n_comp)\n",
    "features_transformed_pca = pca_n.fit_transform(features)"
   ]
  },
  {
   "cell_type": "markdown",
   "metadata": {},
   "source": [
    "## Preparing the data for PCA"
   ]
  },
  {
   "cell_type": "code",
   "execution_count": null,
   "metadata": {},
   "outputs": [],
   "source": [
    "np.random.seed(42)\n",
    "# Separate into training (80%) and testing (20%):\n",
    "msk = np.random.rand(len(features_transformed_pca)) < 0.8\n",
    "train_features_qda = features_transformed_pca[msk]\n",
    "train_target_qda = target[msk]\n",
    "train_features_lda = features_transformed_pca[msk]\n",
    "train_target_lda = target[msk]\n",
    "test_features_qda = features_transformed_pca[~msk]\n",
    "test_target_qda = target[~msk]\n",
    "test_features_lda = features_transformed_pca[~msk]\n",
    "test_target_lda = target[~msk]"
   ]
  },
  {
   "cell_type": "markdown",
   "metadata": {},
   "source": [
    "## LDA"
   ]
  },
  {
   "cell_type": "code",
   "execution_count": null,
   "metadata": {},
   "outputs": [],
   "source": [
    "lda = LinearDiscriminantAnalysis()\n",
    "lda.fit(train_features_lda, train_target_lda)\n",
    "predicted_lda = lda.predict(test_features_lda)\n",
    "actual_lda = np.array(test_target_lda)"
   ]
  },
  {
   "cell_type": "markdown",
   "metadata": {},
   "source": [
    "## QDA"
   ]
  },
  {
   "cell_type": "code",
   "execution_count": null,
   "metadata": {},
   "outputs": [],
   "source": [
    "qda = QuadraticDiscriminantAnalysis()\n",
    "qda.fit(train_features_qda, train_target_qda)\n",
    "predicted_qda = qda.predict(test_features_qda)\n",
    "actual_qda = np.array(test_target_qda)"
   ]
  },
  {
   "cell_type": "markdown",
   "metadata": {},
   "source": [
    "## Cross Validation"
   ]
  },
  {
   "cell_type": "code",
   "execution_count": null,
   "metadata": {},
   "outputs": [],
   "source": [
    "def k_fold_split(df, fold_number, target_fold_index):\n",
    "    size = len(df)\n",
    "    test_mask = np.array([False]*size,  dtype=bool)\n",
    "    for i in range(size-target_fold_index):\n",
    "        if i%fold_number==0: test_mask[i+ target_fold_index] = True\n",
    "    \n",
    "    train = df[~test_mask]\n",
    "    test= df[test_mask]\n",
    "    \n",
    "    return train, test\n",
    "\n",
    "\n",
    "# pca_lda\n",
    "def lda_qda_knn(train, test, lda_huh, pca_comp_n=2, bootstrap=True):\n",
    "    # resample data:\n",
    "    train = resample(train, replace=bootstrap)\n",
    "\n",
    "    train_features = train[train.columns[:54]]\n",
    "    train_target = train[\"Cover_Type\"]\n",
    "    test_features = test[test.columns[:54]]\n",
    "    test_target = test[\"Cover_Type\"]\n",
    "\n",
    "    # do the PCA()\n",
    "    pca_space = PCA(n_components=pca_comp_n)\n",
    "    pca_space.fit(train_features) # \"Fit\" PCA to data\n",
    "    train_transformed = pca_space.transform(train_features) # \"transform\" data to fitted pca\n",
    "    test_transformed = pca_space.transform(test_features) # \"transform\" test to fitted pca\n",
    "\n",
    "    # lda & qda:\n",
    "    if lda_huh:\n",
    "        model = LinearDiscriminantAnalysis()\n",
    "    else:\n",
    "        model = QuadraticDiscriminantAnalysis()\n",
    "\n",
    "    model.fit(train_transformed, train_target)\n",
    "\n",
    "    # make predctions based on KNN:\n",
    "    predicted = model.predict(test_transformed)\n",
    "    actual = np.array(test_target)\n",
    "\n",
    "\n",
    "    # tally up the results:\n",
    "    result = [True]*len(actual)\n",
    "    for i in range(len(actual)):\n",
    "        if predicted[i] != actual[i]:\n",
    "            result[i] = False\n",
    "\n",
    "    correct_count = [i for i in result if i==True]\n",
    "    correct_rate = float(len(correct_count))/len(actual)\n",
    "\n",
    "    return correct_rate"
   ]
  },
  {
   "cell_type": "markdown",
   "metadata": {},
   "source": [
    "## Printing the results"
   ]
  },
  {
   "cell_type": "code",
   "execution_count": null,
   "metadata": {},
   "outputs": [],
   "source": [
    "pca_comp = 5\n",
    "\n",
    "# Cross validation parameters:\n",
    "fold = 10\n",
    "bootsrap_rounds = 10\n",
    "\n",
    "for j in range(0, 2):\n",
    "    cv = np.empty(shape=(bootsrap_rounds, fold))\n",
    "    for fold_index in range(fold):\n",
    "        train, test = k_fold_split(df, fold, fold_index)\n",
    "        for i in range(bootsrap_rounds):\n",
    "            correct_rate = lda_qda_knn(train, test, pca_comp, j)\n",
    "            cv[i, fold_index] = correct_rate\n",
    "\n",
    "    cv_flat = cv.flatten()\n",
    "    bin_size = (np.amin(cv_flat) - np.amax(cv_flat))/100\n",
    "    bins = np.linspace(np.amin(cv), np.amax(cv), 20)\n",
    "\n",
    "    np.mean(cv_flat)\n",
    "    plt.hist(cv_flat, bins=bins)\n",
    "    plt.show()\n",
    "    j += 1"
   ]
  }
 ],
 "metadata": {
  "kernelspec": {
   "display_name": "Python 2",
   "language": "python",
   "name": "python2"
  },
  "language_info": {
   "codemirror_mode": {
    "name": "ipython",
    "version": 2.0
   },
   "file_extension": ".py",
   "mimetype": "text/x-python",
   "name": "python",
   "nbconvert_exporter": "python",
   "pygments_lexer": "ipython2",
   "version": "2.7.6"
  }
 },
 "nbformat": 4,
 "nbformat_minor": 0
}