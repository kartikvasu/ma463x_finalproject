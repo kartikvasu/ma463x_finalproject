{
 "cells": [
  {
   "cell_type": "code",
   "execution_count": null,
   "metadata": {
    "collapsed": true
   },
   "outputs": [],
   "source": [
    "import pandas as pd\n",
    "import numpy as np\n",
    "from sklearn.discriminant_analysis import QuadraticDiscriminantAnalysis\n",
    "from sklearn.discriminant_analysis import LinearDiscriminantAnalysis\n",
    "import matplotlib.pyplot as plt\n",
    "from sklearn.decomposition import PCA\n",
    "from sklearn.model_selection import cross_val_score"
   ]
  },
  {
   "cell_type": "markdown",
   "metadata": {},
   "source": [
    "## Setup"
   ]
  },
  {
   "cell_type": "code",
   "execution_count": null,
   "metadata": {},
   "outputs": [],
   "source": [
    "df = pd.read_csv('train_and_test.csv', index_col=0)\n",
    "features = df[df.columns[:54]]\n",
    "target = df['Cover_Type']\n",
    "feature_names = list(df)"
   ]
  },
  {
   "cell_type": "markdown",
   "metadata": {},
   "source": [
    "## PCA"
   ]
  },
  {
   "cell_type": "code",
   "execution_count": null,
   "metadata": {},
   "outputs": [],
   "source": [
    "pca_feat = PCA() # this is the PCA object\n",
    "pca_feat.fit(features) # fit the PCA object on the features that you have\n",
    "n_comp = 5\n",
    "pca_n = PCA(n_components=n_comp)\n",
    "features_transformed_pca = pca_n.fit_transform(features)"
   ]
  },
  {
   "cell_type": "markdown",
   "metadata": {},
   "source": [
    "## Preparing the data for PCA"
   ]
  },
  {
   "cell_type": "code",
   "execution_count": null,
   "metadata": {},
   "outputs": [],
   "source": [
    "np.random.seed(42)\n",
    "# Separate into training (80%) and testing (20%):\n",
    "msk = np.random.rand(len(features_transformed_pca)) < 0.8\n",
    "train_features_qda = features_transformed_pca[msk]\n",
    "train_target_qda = target[msk]\n",
    "train_features_lda = features_transformed_pca[msk]\n",
    "train_target_lda = target[msk]\n",
    "test_features_qda = features_transformed_pca[~msk]\n",
    "test_target_qda = target[~msk]\n",
    "test_features_lda = features_transformed_pca[~msk]\n",
    "test_target_lda = target[~msk]"
   ]
  },
  {
   "cell_type": "markdown",
   "metadata": {},
   "source": [
    "## LDA"
   ]
  },
  {
   "cell_type": "code",
   "execution_count": null,
   "metadata": {},
   "outputs": [],
   "source": [
    "lda = LinearDiscriminantAnalysis()\n",
    "lda.fit(train_features_lda, train_target_lda)\n",
    "predicted_lda = lda.predict(test_features_lda)\n",
    "actual_lda = np.array(test_target_lda)"
   ]
  },
  {
   "cell_type": "markdown",
   "metadata": {},
   "source": [
    "## QDA"
   ]
  },
  {
   "cell_type": "code",
   "execution_count": null,
   "metadata": {},
   "outputs": [],
   "source": [
    "qda = QuadraticDiscriminantAnalysis()\n",
    "qda.fit(train_features_qda, train_target_qda)\n",
    "predicted_qda = qda.predict(test_features_qda)\n",
    "actual_qda = np.array(test_target_qda)"
   ]
  },
  {
   "cell_type": "markdown",
   "metadata": {},
   "source": [
    "## Cross Validation"
   ]
  },
  {
   "cell_type": "code",
   "execution_count": null,
   "metadata": {},
   "outputs": [],
   "source": [
    "print(\"Average accuracy with a 10-fold cross validation: \", cross_val_score(lda, train_features_lda, train_target_lda, cv=10).mean())\n",
    "print(\"Average accuracy with a 10-fold cross validation: \", cross_val_score(qda, train_features_qda, train_target_qda, cv=10).mean())"
   ]
  },
  {
   "cell_type": "markdown",
   "metadata": {},
   "source": [
    "## Printing the results"
   ]
  },
  {
   "cell_type": "code",
   "execution_count": null,
   "metadata": {},
   "outputs": [],
   "source": [
    "print(\"The successful prediction rate for LDA is: \", lda.score(test_features_lda, test_target_lda))\n",
    "print(\"The successful prediction rate for QDA is: \", qda.score(test_features_qda, test_target_qda))"
   ]
  }
 ],
 "metadata": {
  "kernelspec": {
   "display_name": "Python 2",
   "language": "python",
   "name": "python2"
  },
  "language_info": {
   "codemirror_mode": {
    "name": "ipython",
    "version": 2.0
   },
   "file_extension": ".py",
   "mimetype": "text/x-python",
   "name": "python",
   "nbconvert_exporter": "python",
   "pygments_lexer": "ipython2",
   "version": "2.7.6"
  }
 },
 "nbformat": 4,
 "nbformat_minor": 0
}