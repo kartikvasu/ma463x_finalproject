{
 "cells": [
  {
   "cell_type": "markdown",
   "metadata": {},
   "source": [
    "### Some Utilities Functions:"
   ]
  },
  {
   "cell_type": "markdown",
   "metadata": {},
   "source": [
    "1. k_fold_split(df= \"Data Frame\", fold_number= \"Number 'folds' for the splitting\", target_fold_index= \"Index of subset used for testing\").\n",
    "\n",
    "    Returns the two data frames, train for training, and test for testing.\n",
    "    \n",
    "2. pca_knn( train=\"Training Set\", test=\"Testing Set\", pca_comp_n=\"Number of PCA components to keep\", k_neighbors= \"Number of neighbors for KNN\", bootstrap= \"boolean for bootstrap procedure\" )\n",
    "    Returns the correct prediction rate"
   ]
  },
  {
   "cell_type": "code",
   "execution_count": 3,
   "metadata": {
    "collapsed": true
   },
   "outputs": [],
   "source": [
    "# k_fold_split\n",
    "import numpy as np\n",
    "\n",
    "def k_fold_split(df, fold_number, target_fold_index):\n",
    "    size = len(df)\n",
    "    test_mask = np.array([False]*size,  dtype=bool)\n",
    "    for i in range(size-target_fold_index):\n",
    "        if i%fold_number==0: test_mask[i + target_fold_index] = True\n",
    "    \n",
    "    train = df[~test_mask]\n",
    "    test= df[test_mask]\n",
    "    \n",
    "    return train, test"
   ]
  },
  {
   "cell_type": "code",
   "execution_count": 9,
   "metadata": {
    "collapsed": true
   },
   "outputs": [],
   "source": [
    "# pca_knn\n",
    "\n",
    "import numpy as np\n",
    "from sklearn.decomposition import PCA\n",
    "from sklearn.neighbors import KNeighborsClassifier\n",
    "from sklearn.utils import resample\n",
    "\n",
    "def pca_knn(train, test, pca_comp_n = 2, k_neighbors = 6, bootstrap=True):\n",
    "    # resample data:\n",
    "    train = resample(train, replace = bootstrap)\n",
    "    \n",
    "    train_features = train[train.columns[:54]]\n",
    "    train_target = train[\"Cover_Type\"]\n",
    "    test_features = test[test.columns[:54]]\n",
    "    test_target = test[\"Cover_Type\"]\n",
    "    \n",
    "    # do the PCA()\n",
    "    pca_space = PCA(n_components = pca_comp_n)\n",
    "    pca_space.fit(train_features) # \"Fit\" PCA to data\n",
    "    train_transformed = pca_space.transform(train_features) # \"transform\" data to fitted pca\n",
    "    test_transformed = pca_space.transform(test_features) # \"transform\" test to fitted pca\n",
    "    \n",
    "    # knn:\n",
    "    knn = KNeighborsClassifier(n_neighbors= k_neighbors)\n",
    "    knn.fit(train_transformed, train_target)\n",
    "    \n",
    "    # make predctions based on KNN:\n",
    "    predicted = knn.predict(test_transformed)\n",
    "    actual = np.array(test_target)\n",
    "\n",
    "    \n",
    "    # tally up the results:\n",
    "    result = [True]*len(actual)\n",
    "    for i in range(len(actual)):\n",
    "        if predicted[i] != actual[i]:\n",
    "            result[i] = False\n",
    "    \n",
    "    correct_count = [i for i in result if i==True]\n",
    "    correct_rate = float(len(correct_count))/len(actual)\n",
    "    \n",
    "    return correct_rate"
   ]
  }
 ],
 "metadata": {
  "kernelspec": {
   "display_name": "Python 2",
   "language": "python",
   "name": "python2"
  },
  "language_info": {
   "codemirror_mode": {
    "name": "ipython",
    "version": 2
   },
   "file_extension": ".py",
   "mimetype": "text/x-python",
   "name": "python",
   "nbconvert_exporter": "python",
   "pygments_lexer": "ipython2",
   "version": "2.7.10"
  }
 },
 "nbformat": 4,
 "nbformat_minor": 2
}
