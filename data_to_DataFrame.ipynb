{
 "cells": [
  {
   "cell_type": "code",
   "execution_count": 49,
   "metadata": {},
   "outputs": [],
   "source": [
    "import pandas as pd\n",
    "import numpy as np\n",
    "path = \"covtype.data\""
   ]
  },
  {
   "cell_type": "code",
   "execution_count": 50,
   "metadata": {},
   "outputs": [],
   "source": [
    "with open(path) as data_file:\n",
    "    raw_data = np.empty((581012, 55))\n",
    "    row = 0\n",
    "    for line in data_file:\n",
    "        line = line.replace('\\n', '')\n",
    "        line = line.split(',')\n",
    "        for elem in line:\n",
    "            elem = float(elem)\n",
    "        raw_data[row,:] = line\n",
    "        row = row + 1"
   ]
  },
  {
   "cell_type": "code",
   "execution_count": 51,
   "metadata": {},
   "outputs": [],
   "source": [
    "soil_type_dict = {}\n",
    "for i in range(1,41):\n",
    "    key = 'Soil_Type_' + str(i)\n",
    "    soil_type_dict[key] = raw_data[:,i+13]\n",
    "    \n",
    "data_dict = {'Elevation':raw_data[:,0],\n",
    "             'Aspect':raw_data[:,1],\n",
    "             'Slope':raw_data[:,2],\n",
    "             'Horizontal_Dist_To_Water':raw_data[:,3],\n",
    "             'Vertical_Dist_To_Water':raw_data[:,4],\n",
    "             'Horizontal_Dist_To_Roadways':raw_data[:,5],\n",
    "             'Hillshade_9am':raw_data[:,6],\n",
    "             'Hillshade_noon':raw_data[:,7],\n",
    "             'Hillshade_3pm':raw_data[:,8],\n",
    "             'Horizontal_Dist_To_Fire_Points':raw_data[:,9],\n",
    "             'WA_Rawah':raw_data[:,10],\n",
    "             'WA_Neota':raw_data[:,11],\n",
    "             'WA_Comanche':raw_data[:,12],\n",
    "             'WA_CacheLaPoudre':raw_data[:,13],\n",
    "             'Cover_Type':raw_data[:,54]}\n",
    "\n",
    "data_dict.update(soil_type_dict)\n",
    "# Data Frame with the data:\n",
    "data = pd.DataFrame(data_dict)"
   ]
  },
  {
   "cell_type": "code",
   "execution_count": 52,
   "metadata": {
    "scrolled": true
   },
   "outputs": [],
   "source": [
    "train_data = data[:11340]\n",
    "test_data = data[11340:15120]\n",
    "data_safe = data[15120:]"
   ]
  },
  {
   "cell_type": "code",
   "execution_count": 58,
   "metadata": {},
   "outputs": [],
   "source": [
    "train_data;"
   ]
  },
  {
   "cell_type": "code",
   "execution_count": 59,
   "metadata": {},
   "outputs": [],
   "source": [
    "test_data;"
   ]
  },
  {
   "cell_type": "code",
   "execution_count": 60,
   "metadata": {},
   "outputs": [],
   "source": [
    "data_safe;"
   ]
  },
  {
   "cell_type": "code",
   "execution_count": null,
   "metadata": {
    "collapsed": true
   },
   "outputs": [],
   "source": []
  }
 ],
 "metadata": {
  "kernelspec": {
   "display_name": "Python 2",
   "language": "python",
   "name": "python2"
  },
  "language_info": {
   "codemirror_mode": {
    "name": "ipython",
    "version": 2
   },
   "file_extension": ".py",
   "mimetype": "text/x-python",
   "name": "python",
   "nbconvert_exporter": "python",
   "pygments_lexer": "ipython2",
   "version": "2.7.10"
  }
 },
 "nbformat": 4,
 "nbformat_minor": 2
}
